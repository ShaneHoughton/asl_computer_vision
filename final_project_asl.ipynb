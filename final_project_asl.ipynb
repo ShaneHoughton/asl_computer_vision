{
 "cells": [
  {
   "cell_type": "code",
   "execution_count": 1,
   "metadata": {},
   "outputs": [
    {
     "name": "stdout",
     "output_type": "stream",
     "text": [
      "Already up to date.\n"
     ]
    },
    {
     "data": {
      "text/plain": [
       "<Figure size 720x720 with 0 Axes>"
      ]
     },
     "metadata": {},
     "output_type": "display_data"
    }
   ],
   "source": [
    "import os.path\n",
    "import numpy as np\n",
    "from numpy import fft\n",
    "import scipy.ndimage as ndi\n",
    "import skimage as ski\n",
    "from skimage import io\n",
    "from skimage import feature\n",
    "from skimage import filters\n",
    "from skimage import color\n",
    "from skimage import segmentation\n",
    "from sklearn import cluster # scikit-learn: a machine learning library\n",
    "import matplotlib as mpl\n",
    "import matplotlib.pylab as plt\n",
    "import cv2\n",
    "\n",
    "if os.path.isdir('ImageProcessingF2021'):\n",
    "    !git -C ImageProcessingF2021 pull\n",
    "else:\n",
    "    !git clone https://github.com/MoravianCollege/ImageProcessingF2021.git\n",
    "\n",
    "from ImageProcessingF2021.video import run_video\n",
    "\n",
    "mpl.rcParams['figure.figsize'] = (10,10)\n",
    "plt.gray();"
   ]
  },
  {
   "cell_type": "code",
   "execution_count": 2,
   "metadata": {},
   "outputs": [],
   "source": [
    "def equalizeHistogram(im, clahe=None):\n",
    "    \"\"\"\n",
    "    This applies histogram qualization to the luminance of the given color image (which must be\n",
    "    grayscale or RGB). The luminance is essentially the grayscale of the image, but this applies\n",
    "    it to that and then adjusts the color image to match that luminance.\n",
    "\n",
    "    If this is provided with a CLAHE object, it is used to perform the CLAHE instead of global\n",
    "    histogram equalization.\n",
    "    \"\"\"\n",
    "    if im.ndim == 3 and im.shape[2] >= 3:\n",
    "        ycrcb = cv2.cvtColor(im, cv2.COLOR_RGB2YCrCb)   # or color.rgb2ycbcr(im)\n",
    "        if clahe is not None:\n",
    "            ycrcb[:, :, 0] = clahe.apply(ycrcb[:, :, 0])\n",
    "        else:\n",
    "            ycrcb[:, :, 0] = cv2.equalizeHist(ycrcb[:, :, 0])  # or exposure.equalize_hist(im)\n",
    "        im = cv2.cvtColor(ycrcb, cv2.COLOR_YCrCb2RGB)   # or color.ycbcr2rgb(im)\n",
    "    else:  # assume grayscale\n",
    "        im = cv2.equalizeHist(im) if clahe is None else clahe.apply(im)\n",
    "    return im"
   ]
  },
  {
   "cell_type": "code",
   "execution_count": 3,
   "metadata": {},
   "outputs": [],
   "source": [
    "lower1 = np.array([0, 39, 31], np.uint8)\n",
    "upper1 = np.array([50, 255, 255], np.uint8)\n",
    "\n",
    "lower2 = np.array([65, 98, 0], np.uint8)\n",
    "upper2 = np.array([179, 255, 255], np.uint8)\n",
    "\n",
    "clahe = cv2.createCLAHE(clipLimit=2.0, tileGridSize=(21,21))\n",
    "\n",
    "def image_in_range(im, colorized=True):\n",
    "    \"\"\"\n",
    "    Returns a binary image where Trues (actually 255) in the result are when the HSV version is in the\n",
    "    range of the global variables lower and upper.\n",
    "\n",
    "    If colorized is True then the returned image has the pixels set to the color of the original image\n",
    "    wherever the binary image is True.\n",
    "    \"\"\"\n",
    "    he = equalizeHistogram(im, clahe)\n",
    "    hsvim = cv2.cvtColor(he, cv2.COLOR_RGB2HSV)    # or color.rgb2hsv(im)\n",
    "    mask = (cv2.inRange(hsvim, lower1, upper1) > 0) | (cv2.inRange(hsvim, lower2, upper2) > 0)  # or ((lower1 <= im).all(2) & (im <= upper1).all(2)) | ((lower2 <= im).all(2) & (im <= upper2).all(2))\n",
    "    return color_mask(im, mask) if colorized else mask\n",
    "\n",
    "def color_mask(im, mask):\n",
    "    \"\"\"\n",
    "    Takes a color image and a mask and returns a new image that is black outside the mask but colored\n",
    "    in the mask.\n",
    "    \"\"\"\n",
    "    return mask[:, :, None] * im"
   ]
  },
  {
   "cell_type": "code",
   "execution_count": 5,
   "metadata": {},
   "outputs": [
    {
     "data": {
      "application/vnd.jupyter.widget-view+json": {
       "model_id": "e063bb9b7fe64ec3b4b77c971359db9b",
       "version_major": 2,
       "version_minor": 0
      },
      "text/plain": [
       "Image(value=b'\\x89PNG\\r\\n\\x1a\\n\\x00\\x00\\x00\\rIHDR\\x00\\x00\\x02\\x80\\x00\\x00\\x01h\\x08\\x02\\x00\\x00\\x00HP\\xdd\\x06\\x…"
      ]
     },
     "metadata": {},
     "output_type": "display_data"
    }
   ],
   "source": [
    "im = run_video(camera_num=1)"
   ]
  },
  {
   "cell_type": "code",
   "execution_count": 6,
   "metadata": {},
   "outputs": [
    {
     "data": {
      "application/vnd.jupyter.widget-view+json": {
       "model_id": "00bbb162d4b64a7c85e8b5b266d72246",
       "version_major": 2,
       "version_minor": 0
      },
      "text/plain": [
       "Image(value=b'\\x89PNG\\r\\n\\x1a\\n\\x00\\x00\\x00\\rIHDR\\x00\\x00\\x02\\x80\\x00\\x00\\x01h\\x08\\x02\\x00\\x00\\x00HP\\xdd\\x06\\x…"
      ]
     },
     "metadata": {},
     "output_type": "display_data"
    }
   ],
   "source": [
    "im = run_video(image_in_range, camera_num=1)"
   ]
  },
  {
   "cell_type": "code",
   "execution_count": 15,
   "metadata": {},
   "outputs": [],
   "source": [
    "def get_outline(im):\n",
    "    im = im[: ,70:-70]\n",
    "    seg = image_in_range(im)\n",
    "    edges = feature.canny(color.rgb2gray(seg))\n",
    "    edges = ndi.binary_dilation(edges)\n",
    "    dilated = ndi.binary_opening(ndi.binary_closing(ndi.binary_opening((edges))))\n",
    "    \n",
    "    contours, _ = cv2.findContours(dilated.view('uint8'), cv2.RETR_EXTERNAL, cv2.CHAIN_APPROX_SIMPLE)\n",
    "    largest_contour = max(contours, key=lambda x: cv2.contourArea(x))\n",
    "    largest_contour = largest_contour.squeeze() # removes the random \"1\" dimension in the middle\n",
    "    max_x, max_y = max(largest_contour[:,1]), max(largest_contour[:,0])\n",
    "    min_x, min_y = min(largest_contour[:,1]), min(largest_contour[:,0])\n",
    "    im = im[min_x:max_x, min_y:max_y]\n",
    "    out = cv2.drawContours(im.copy(), [largest_contour-[[min_y,min_x]]], -1, (0,255,0), 2)\n",
    "    return out"
   ]
  },
  {
   "cell_type": "code",
   "execution_count": 16,
   "metadata": {},
   "outputs": [
    {
     "data": {
      "application/vnd.jupyter.widget-view+json": {
       "model_id": "2d5272960e1d49af9e64686f517c03de",
       "version_major": 2,
       "version_minor": 0
      },
      "text/plain": [
       "Image(value=b'\\x89PNG\\r\\n\\x1a\\n\\x00\\x00\\x00\\rIHDR\\x00\\x00\\x00\\xd1\\x00\\x00\\x01\\x02\\x08\\x02\\x00\\x00\\x00\\xef\\x85\\…"
      ]
     },
     "metadata": {},
     "output_type": "display_data"
    }
   ],
   "source": [
    "im = run_video(get_outline, camera_num=1, return_orig=True)"
   ]
  },
  {
   "cell_type": "code",
   "execution_count": 9,
   "metadata": {},
   "outputs": [],
   "source": [
    "def hand_segment(im):\n",
    "    \"\"\"\n",
    "    Returns a binary image where Trues (actually 255) in the result are when the HSV version is in the\n",
    "    range of the global variables lower and upper.\n",
    "\n",
    "    If colorized is True then the returned image has the pixels set to the color of the original image\n",
    "    wherever the binary image is True.\n",
    "    \"\"\"\n",
    "    from ImageProcessingF2021 import cos\n",
    "\n",
    "    try:\n",
    "        intial_segmentation = image_in_range(im, False)\n",
    "\n",
    "        # Get the largest contour\n",
    "        contours, _ = cv2.findContours(intial_segmentation.view('uint8'), cv2.RETR_EXTERNAL, cv2.CHAIN_APPROX_SIMPLE)\n",
    "        largest_contour = max(contours, key=lambda x: cv2.contourArea(x))\n",
    "        largest_contour = largest_contour.squeeze() # removes the random \"1\" dimension in the middle\n",
    "        out = cv2.drawContours(im.copy(), [largest_contour], -1, (0,255,0), 2)\n",
    "        # Get the defects in the convex hull\n",
    "        hull_indices = cv2.convexHull(largest_contour, returnPoints=False)\n",
    "        defects = cv2.convexityDefects(largest_contour, hull_indices)\n",
    "        defects = defects.squeeze() # removes the random \"1\" dimension in the middle\n",
    "\n",
    "        # Filter the defects by the cos of their angle\n",
    "        cos_angles = [cos(largest_contour[defect[2]], \n",
    "                    largest_contour[defect[1]], \n",
    "                    largest_contour[defect[0]]) for defect in defects]\n",
    "        filtered_defects = [defect for defect, cos_angle in zip(defects, cos_angles) if cos_angle > 0]\n",
    "\n",
    "        out = cv2.putText(im.copy(), f\"{len(filtered_defects)+1}\", (10, 50), cv2.FONT_HERSHEY_SIMPLEX, 0.75, (255, 0, 0))\n",
    "\n",
    "        # Optionally draw all of the other information\n",
    "        out = cv2.drawContours(im.copy(), [largest_contour], -1, (0,255,0), 2)\n",
    "        hull = cv2.convexHull(largest_contour)\n",
    "        cv2.drawContours(out, [hull], -1, (0, 0, 255), 2)\n",
    "        for i, (start, end, defect, distance) in enumerate(filtered_defects):\n",
    "            cv2.line(out, largest_contour[start], largest_contour[defect], (255, 0, 0))\n",
    "            cv2.line(out, largest_contour[end], largest_contour[defect], (255, 0, 0))\n",
    "            cv2.circle(out, largest_contour[start], 2, (255, 0, 0), -1)\n",
    "            cv2.circle(out, largest_contour[end], 2, (255, 0, 0), -1)\n",
    "            cv2.circle(out, largest_contour[defect], 2, (255, 0, 0), -1)\n",
    "            # cv2.putText(out, str(i), largest_contour[start], cv2.FONT_HERSHEY_SIMPLEX, 0.5, (255, 0, 0))\n",
    "            # cv2.putText(out, f\"{distance/256:.4}\", largest_contour[defect], cv2.FONT_HERSHEY_SIMPLEX, 0.5, (255, 0, 0))\n",
    "        \n",
    "        return out\n",
    "    except (cv2.error, ValueError, AttributeError, IndexError) as error:\n",
    "        return im\n",
    "\n",
    "# im = run_video(hand_segment, camera_num=1, return_orig=True)"
   ]
  },
  {
   "cell_type": "code",
   "execution_count": 90,
   "metadata": {},
   "outputs": [],
   "source": [
    "# Code to save every frame\n",
    "i = 0\n",
    "def saver(im):\n",
    "    global i\n",
    "    while i < 40:\n",
    "        outlined = get_outline(im[20:-20, 20:-30])\n",
    "        if i % 2 == 0:\n",
    "            io.imsave(f'alphabet/c/frame{i}.png', outlined)\n",
    "        i += 1\n",
    "        return outlined\n",
    "    return im"
   ]
  },
  {
   "cell_type": "code",
   "execution_count": 33,
   "metadata": {},
   "outputs": [
    {
     "name": "stderr",
     "output_type": "stream",
     "text": [
      "/var/folders/73/h6ppm6td6hx2rlm1103pksph0000gn/T/ipykernel_33455/1060158290.py:8: UserWarning: alphabet/c/frame0.png is a boolean image: setting True to 255 and False to 0. To silence this warning, please convert the image using img_as_ubyte.\n",
      "  io.imsave(f'alphabet/c/frame{i}.png', outlined)\n"
     ]
    },
    {
     "data": {
      "application/vnd.jupyter.widget-view+json": {
       "model_id": "fe77bafdb49345c28659efe917042908",
       "version_major": 2,
       "version_minor": 0
      },
      "text/plain": [
       "Image(value=b'\\x89PNG\\r\\n\\x1a\\n\\x00\\x00\\x00\\rIHDR\\x00\\x00\\x02N\\x00\\x00\\x01@\\x01\\x00\\x00\\x00\\x00b\\xc0\\xce\\xb5\\x…"
      ]
     },
     "metadata": {},
     "output_type": "display_data"
    },
    {
     "name": "stderr",
     "output_type": "stream",
     "text": [
      "/var/folders/73/h6ppm6td6hx2rlm1103pksph0000gn/T/ipykernel_33455/1060158290.py:8: UserWarning: alphabet/c/frame2.png is a boolean image: setting True to 255 and False to 0. To silence this warning, please convert the image using img_as_ubyte.\n",
      "  io.imsave(f'alphabet/c/frame{i}.png', outlined)\n",
      "/var/folders/73/h6ppm6td6hx2rlm1103pksph0000gn/T/ipykernel_33455/1060158290.py:8: UserWarning: alphabet/c/frame4.png is a boolean image: setting True to 255 and False to 0. To silence this warning, please convert the image using img_as_ubyte.\n",
      "  io.imsave(f'alphabet/c/frame{i}.png', outlined)\n",
      "/var/folders/73/h6ppm6td6hx2rlm1103pksph0000gn/T/ipykernel_33455/1060158290.py:8: UserWarning: alphabet/c/frame6.png is a boolean image: setting True to 255 and False to 0. To silence this warning, please convert the image using img_as_ubyte.\n",
      "  io.imsave(f'alphabet/c/frame{i}.png', outlined)\n",
      "/var/folders/73/h6ppm6td6hx2rlm1103pksph0000gn/T/ipykernel_33455/1060158290.py:8: UserWarning: alphabet/c/frame8.png is a boolean image: setting True to 255 and False to 0. To silence this warning, please convert the image using img_as_ubyte.\n",
      "  io.imsave(f'alphabet/c/frame{i}.png', outlined)\n",
      "/var/folders/73/h6ppm6td6hx2rlm1103pksph0000gn/T/ipykernel_33455/1060158290.py:8: UserWarning: alphabet/c/frame10.png is a boolean image: setting True to 255 and False to 0. To silence this warning, please convert the image using img_as_ubyte.\n",
      "  io.imsave(f'alphabet/c/frame{i}.png', outlined)\n",
      "/var/folders/73/h6ppm6td6hx2rlm1103pksph0000gn/T/ipykernel_33455/1060158290.py:8: UserWarning: alphabet/c/frame12.png is a boolean image: setting True to 255 and False to 0. To silence this warning, please convert the image using img_as_ubyte.\n",
      "  io.imsave(f'alphabet/c/frame{i}.png', outlined)\n",
      "/var/folders/73/h6ppm6td6hx2rlm1103pksph0000gn/T/ipykernel_33455/1060158290.py:8: UserWarning: alphabet/c/frame14.png is a boolean image: setting True to 255 and False to 0. To silence this warning, please convert the image using img_as_ubyte.\n",
      "  io.imsave(f'alphabet/c/frame{i}.png', outlined)\n",
      "/var/folders/73/h6ppm6td6hx2rlm1103pksph0000gn/T/ipykernel_33455/1060158290.py:8: UserWarning: alphabet/c/frame16.png is a boolean image: setting True to 255 and False to 0. To silence this warning, please convert the image using img_as_ubyte.\n",
      "  io.imsave(f'alphabet/c/frame{i}.png', outlined)\n",
      "/var/folders/73/h6ppm6td6hx2rlm1103pksph0000gn/T/ipykernel_33455/1060158290.py:8: UserWarning: alphabet/c/frame18.png is a boolean image: setting True to 255 and False to 0. To silence this warning, please convert the image using img_as_ubyte.\n",
      "  io.imsave(f'alphabet/c/frame{i}.png', outlined)\n",
      "/var/folders/73/h6ppm6td6hx2rlm1103pksph0000gn/T/ipykernel_33455/1060158290.py:8: UserWarning: alphabet/c/frame20.png is a boolean image: setting True to 255 and False to 0. To silence this warning, please convert the image using img_as_ubyte.\n",
      "  io.imsave(f'alphabet/c/frame{i}.png', outlined)\n",
      "/var/folders/73/h6ppm6td6hx2rlm1103pksph0000gn/T/ipykernel_33455/1060158290.py:8: UserWarning: alphabet/c/frame22.png is a boolean image: setting True to 255 and False to 0. To silence this warning, please convert the image using img_as_ubyte.\n",
      "  io.imsave(f'alphabet/c/frame{i}.png', outlined)\n",
      "/var/folders/73/h6ppm6td6hx2rlm1103pksph0000gn/T/ipykernel_33455/1060158290.py:8: UserWarning: alphabet/c/frame24.png is a boolean image: setting True to 255 and False to 0. To silence this warning, please convert the image using img_as_ubyte.\n",
      "  io.imsave(f'alphabet/c/frame{i}.png', outlined)\n",
      "/var/folders/73/h6ppm6td6hx2rlm1103pksph0000gn/T/ipykernel_33455/1060158290.py:8: UserWarning: alphabet/c/frame26.png is a boolean image: setting True to 255 and False to 0. To silence this warning, please convert the image using img_as_ubyte.\n",
      "  io.imsave(f'alphabet/c/frame{i}.png', outlined)\n",
      "/var/folders/73/h6ppm6td6hx2rlm1103pksph0000gn/T/ipykernel_33455/1060158290.py:8: UserWarning: alphabet/c/frame28.png is a boolean image: setting True to 255 and False to 0. To silence this warning, please convert the image using img_as_ubyte.\n",
      "  io.imsave(f'alphabet/c/frame{i}.png', outlined)\n",
      "/var/folders/73/h6ppm6td6hx2rlm1103pksph0000gn/T/ipykernel_33455/1060158290.py:8: UserWarning: alphabet/c/frame30.png is a boolean image: setting True to 255 and False to 0. To silence this warning, please convert the image using img_as_ubyte.\n",
      "  io.imsave(f'alphabet/c/frame{i}.png', outlined)\n",
      "/var/folders/73/h6ppm6td6hx2rlm1103pksph0000gn/T/ipykernel_33455/1060158290.py:8: UserWarning: alphabet/c/frame32.png is a boolean image: setting True to 255 and False to 0. To silence this warning, please convert the image using img_as_ubyte.\n",
      "  io.imsave(f'alphabet/c/frame{i}.png', outlined)\n",
      "/var/folders/73/h6ppm6td6hx2rlm1103pksph0000gn/T/ipykernel_33455/1060158290.py:8: UserWarning: alphabet/c/frame34.png is a boolean image: setting True to 255 and False to 0. To silence this warning, please convert the image using img_as_ubyte.\n",
      "  io.imsave(f'alphabet/c/frame{i}.png', outlined)\n",
      "/var/folders/73/h6ppm6td6hx2rlm1103pksph0000gn/T/ipykernel_33455/1060158290.py:8: UserWarning: alphabet/c/frame36.png is a boolean image: setting True to 255 and False to 0. To silence this warning, please convert the image using img_as_ubyte.\n",
      "  io.imsave(f'alphabet/c/frame{i}.png', outlined)\n",
      "/var/folders/73/h6ppm6td6hx2rlm1103pksph0000gn/T/ipykernel_33455/1060158290.py:8: UserWarning: alphabet/c/frame38.png is a boolean image: setting True to 255 and False to 0. To silence this warning, please convert the image using img_as_ubyte.\n",
      "  io.imsave(f'alphabet/c/frame{i}.png', outlined)\n"
     ]
    }
   ],
   "source": [
    "# im = run_video(saver, camera_num=1);"
   ]
  },
  {
   "cell_type": "code",
   "execution_count": 16,
   "metadata": {},
   "outputs": [],
   "source": [
    "def digit_feature_vectors(im):\n",
    "    \"\"\"\n",
    "    This is a very simple feature vector set: just the pixel values in their original order\n",
    "    (after forcing the image size to be 18x18).\n",
    "    \"\"\"\n",
    "    contours, _ = cv2.findContours(im.view('uint8'), cv2.RETR_EXTERNAL, cv2.CHAIN_APPROX_SIMPLE)\n",
    "    largest_contour = max(contours, key=lambda x: cv2.contourArea(x))\n",
    "    largest_contour = largest_contour.squeeze() # removes the random \"1\" dimension in the middle\n",
    "    im.\n",
    "    largest_contour\n",
    "\n",
    "    return cv2.resize(im, (320, 590)).ravel()\n",
    "\n",
    "def extract_training_digits(im, fv=digit_feature_vectors):\n",
    "    \"\"\"\n",
    "    Extracts the training digits from the given image. The image must have 10 rows with\n",
    "    each row a different numeral but the same height. The digits must be square. Every\n",
    "    digit image is sent to the given feature vector function which must return a 1D\n",
    "    set of values that are the features for that image. The same function will later be\n",
    "    used to make the feature vectors for the digits being identified.\n",
    "    \n",
    "    This returns two arrays:\n",
    "        feature_vectors: NxM where N is # examples and M is # features for each example\n",
    "        labels:          Nx1\n",
    "    \"\"\"\n",
    "    feature_vectors = []\n",
    "    labels = []\n",
    "    src_height = im.shape[0] // 3 #26 for full alphabet\n",
    "    src_width = im.shape[1] // 20\n",
    "\n",
    "    # height 320\n",
    "    # width 590\n",
    "\n",
    "    count = im.shape[1] // src_width\n",
    "    for digit in range(3):\n",
    "        row = im[digit*src_height:(digit+1)*src_width]\n",
    "        for i in range(count):\n",
    "            single_digit = row[:, i*src_width:(i+1)*src_width]\n",
    "            feature_vectors.append(fv(single_digit))\n",
    "            labels.append(digit)\n",
    "\n",
    "\n",
    "    return np.array(feature_vectors, dtype=np.float32), np.array(labels).reshape(-1, 1)"
   ]
  },
  {
   "cell_type": "code",
   "execution_count": 52,
   "metadata": {},
   "outputs": [
    {
     "data": {
      "text/plain": [
       "<matplotlib.image.AxesImage at 0x7f96991e0bb0>"
      ]
     },
     "execution_count": 52,
     "metadata": {},
     "output_type": "execute_result"
    },
    {
     "data": {
      "image/png": "[encoded data removed]",
      "text/plain": [
       "<Figure size 720x720 with 1 Axes>"
      ]
     },
     "metadata": {
      "needs_background": "light"
     },
     "output_type": "display_data"
    }
   ],
   "source": [
    "alphabet_im = io.imread('LabelsPage.png')[:, :, 0]\n",
    "plt.imshow(alphabet_im)"
   ]
  },
  {
   "cell_type": "code",
   "execution_count": 53,
   "metadata": {},
   "outputs": [],
   "source": [
    "fv, lbls = extract_training_digits(alphabet_im)"
   ]
  },
  {
   "cell_type": "code",
   "execution_count": 54,
   "metadata": {},
   "outputs": [
    {
     "data": {
      "text/plain": [
       "True"
      ]
     },
     "execution_count": 54,
     "metadata": {},
     "output_type": "execute_result"
    }
   ],
   "source": [
    "knn = cv2.ml.KNearest_create()\n",
    "knn.train(fv, cv2.ml.ROW_SAMPLE, lbls)"
   ]
  },
  {
   "cell_type": "code",
   "execution_count": 24,
   "metadata": {},
   "outputs": [
    {
     "data": {
      "text/plain": [
       "((60, 755200), dtype('float32'))"
      ]
     },
     "execution_count": 24,
     "metadata": {},
     "output_type": "execute_result"
    }
   ],
   "source": [
    "fv.shape, fv.dtype"
   ]
  },
  {
   "cell_type": "code",
   "execution_count": 25,
   "metadata": {},
   "outputs": [
    {
     "data": {
      "text/plain": [
       "((60, 1), dtype('int64'))"
      ]
     },
     "execution_count": 25,
     "metadata": {},
     "output_type": "execute_result"
    }
   ],
   "source": [
    "lbls.shape, lbls.dtype"
   ]
  },
  {
   "cell_type": "code",
   "execution_count": 71,
   "metadata": {},
   "outputs": [
    {
     "data": {
      "text/plain": [
       "array([[0, 0, 0, ..., 0, 0, 0],\n",
       "       [0, 0, 0, ..., 0, 0, 0],\n",
       "       [0, 0, 0, ..., 0, 0, 0],\n",
       "       ...,\n",
       "       [0, 0, 0, ..., 0, 0, 0],\n",
       "       [0, 0, 0, ..., 0, 0, 0],\n",
       "       [0, 0, 0, ..., 0, 0, 0]], dtype=uint8)"
      ]
     },
     "execution_count": 71,
     "metadata": {},
     "output_type": "execute_result"
    }
   ],
   "source": [
    "alphabet_im[:fv.shape[0]//3, :fv.shape[1]//20]"
   ]
  },
  {
   "cell_type": "code",
   "execution_count": 70,
   "metadata": {},
   "outputs": [],
   "source": [
    "test_im = io.imread('alphabet/a/frame0.png')"
   ]
  },
  {
   "cell_type": "code",
   "execution_count": 75,
   "metadata": {},
   "outputs": [
    {
     "name": "stderr",
     "output_type": "stream",
     "text": [
      "/var/folders/73/h6ppm6td6hx2rlm1103pksph0000gn/T/ipykernel_40345/1094991434.py:1: DeprecationWarning: elementwise comparison failed; this will raise an error in the future.\n",
      "  plt.imshow(test_im == alphabet_im[:alphabet_im.shape[0]//3, :alphabet_im.shape[1]//20])\n"
     ]
    },
    {
     "ename": "TypeError",
     "evalue": "Invalid shape () for image data",
     "output_type": "error",
     "traceback": [
      "\u001b[0;31m---------------------------------------------------------------------------\u001b[0m",
      "\u001b[0;31mTypeError\u001b[0m                                 Traceback (most recent call last)",
      "\u001b[0;32m/var/folders/73/h6ppm6td6hx2rlm1103pksph0000gn/T/ipykernel_40345/1094991434.py\u001b[0m in \u001b[0;36m<module>\u001b[0;34m\u001b[0m\n\u001b[0;32m----> 1\u001b[0;31m \u001b[0mplt\u001b[0m\u001b[0;34m.\u001b[0m\u001b[0mimshow\u001b[0m\u001b[0;34m(\u001b[0m\u001b[0mtest_im\u001b[0m \u001b[0;34m==\u001b[0m \u001b[0malphabet_im\u001b[0m\u001b[0;34m[\u001b[0m\u001b[0;34m:\u001b[0m\u001b[0malphabet_im\u001b[0m\u001b[0;34m.\u001b[0m\u001b[0mshape\u001b[0m\u001b[0;34m[\u001b[0m\u001b[0;36m0\u001b[0m\u001b[0;34m]\u001b[0m\u001b[0;34m//\u001b[0m\u001b[0;36m3\u001b[0m\u001b[0;34m,\u001b[0m \u001b[0;34m:\u001b[0m\u001b[0malphabet_im\u001b[0m\u001b[0;34m.\u001b[0m\u001b[0mshape\u001b[0m\u001b[0;34m[\u001b[0m\u001b[0;36m1\u001b[0m\u001b[0;34m]\u001b[0m\u001b[0;34m//\u001b[0m\u001b[0;36m20\u001b[0m\u001b[0;34m]\u001b[0m\u001b[0;34m)\u001b[0m\u001b[0;34m\u001b[0m\u001b[0;34m\u001b[0m\u001b[0m\n\u001b[0m",
      "\u001b[0;32m/Library/Frameworks/Python.framework/Versions/3.9/lib/python3.9/site-packages/matplotlib/pyplot.py\u001b[0m in \u001b[0;36mimshow\u001b[0;34m(X, cmap, norm, aspect, interpolation, alpha, vmin, vmax, origin, extent, filternorm, filterrad, resample, url, data, **kwargs)\u001b[0m\n\u001b[1;32m   2901\u001b[0m         \u001b[0mfilternorm\u001b[0m\u001b[0;34m=\u001b[0m\u001b[0;32mTrue\u001b[0m\u001b[0;34m,\u001b[0m \u001b[0mfilterrad\u001b[0m\u001b[0;34m=\u001b[0m\u001b[0;36m4.0\u001b[0m\u001b[0;34m,\u001b[0m \u001b[0mresample\u001b[0m\u001b[0;34m=\u001b[0m\u001b[0;32mNone\u001b[0m\u001b[0;34m,\u001b[0m \u001b[0murl\u001b[0m\u001b[0;34m=\u001b[0m\u001b[0;32mNone\u001b[0m\u001b[0;34m,\u001b[0m\u001b[0;34m\u001b[0m\u001b[0;34m\u001b[0m\u001b[0m\n\u001b[1;32m   2902\u001b[0m         data=None, **kwargs):\n\u001b[0;32m-> 2903\u001b[0;31m     __ret = gca().imshow(\n\u001b[0m\u001b[1;32m   2904\u001b[0m         \u001b[0mX\u001b[0m\u001b[0;34m,\u001b[0m \u001b[0mcmap\u001b[0m\u001b[0;34m=\u001b[0m\u001b[0mcmap\u001b[0m\u001b[0;34m,\u001b[0m \u001b[0mnorm\u001b[0m\u001b[0;34m=\u001b[0m\u001b[0mnorm\u001b[0m\u001b[0;34m,\u001b[0m \u001b[0maspect\u001b[0m\u001b[0;34m=\u001b[0m\u001b[0maspect\u001b[0m\u001b[0;34m,\u001b[0m\u001b[0;34m\u001b[0m\u001b[0;34m\u001b[0m\u001b[0m\n\u001b[1;32m   2905\u001b[0m         \u001b[0minterpolation\u001b[0m\u001b[0;34m=\u001b[0m\u001b[0minterpolation\u001b[0m\u001b[0;34m,\u001b[0m \u001b[0malpha\u001b[0m\u001b[0;34m=\u001b[0m\u001b[0malpha\u001b[0m\u001b[0;34m,\u001b[0m \u001b[0mvmin\u001b[0m\u001b[0;34m=\u001b[0m\u001b[0mvmin\u001b[0m\u001b[0;34m,\u001b[0m\u001b[0;34m\u001b[0m\u001b[0;34m\u001b[0m\u001b[0m\n",
      "\u001b[0;32m/Library/Frameworks/Python.framework/Versions/3.9/lib/python3.9/site-packages/matplotlib/__init__.py\u001b[0m in \u001b[0;36minner\u001b[0;34m(ax, data, *args, **kwargs)\u001b[0m\n\u001b[1;32m   1359\u001b[0m     \u001b[0;32mdef\u001b[0m \u001b[0minner\u001b[0m\u001b[0;34m(\u001b[0m\u001b[0max\u001b[0m\u001b[0;34m,\u001b[0m \u001b[0;34m*\u001b[0m\u001b[0margs\u001b[0m\u001b[0;34m,\u001b[0m \u001b[0mdata\u001b[0m\u001b[0;34m=\u001b[0m\u001b[0;32mNone\u001b[0m\u001b[0;34m,\u001b[0m \u001b[0;34m**\u001b[0m\u001b[0mkwargs\u001b[0m\u001b[0;34m)\u001b[0m\u001b[0;34m:\u001b[0m\u001b[0;34m\u001b[0m\u001b[0;34m\u001b[0m\u001b[0m\n\u001b[1;32m   1360\u001b[0m         \u001b[0;32mif\u001b[0m \u001b[0mdata\u001b[0m \u001b[0;32mis\u001b[0m \u001b[0;32mNone\u001b[0m\u001b[0;34m:\u001b[0m\u001b[0;34m\u001b[0m\u001b[0;34m\u001b[0m\u001b[0m\n\u001b[0;32m-> 1361\u001b[0;31m             \u001b[0;32mreturn\u001b[0m \u001b[0mfunc\u001b[0m\u001b[0;34m(\u001b[0m\u001b[0max\u001b[0m\u001b[0;34m,\u001b[0m \u001b[0;34m*\u001b[0m\u001b[0mmap\u001b[0m\u001b[0;34m(\u001b[0m\u001b[0msanitize_sequence\u001b[0m\u001b[0;34m,\u001b[0m \u001b[0margs\u001b[0m\u001b[0;34m)\u001b[0m\u001b[0;34m,\u001b[0m \u001b[0;34m**\u001b[0m\u001b[0mkwargs\u001b[0m\u001b[0;34m)\u001b[0m\u001b[0;34m\u001b[0m\u001b[0;34m\u001b[0m\u001b[0m\n\u001b[0m\u001b[1;32m   1362\u001b[0m \u001b[0;34m\u001b[0m\u001b[0m\n\u001b[1;32m   1363\u001b[0m         \u001b[0mbound\u001b[0m \u001b[0;34m=\u001b[0m \u001b[0mnew_sig\u001b[0m\u001b[0;34m.\u001b[0m\u001b[0mbind\u001b[0m\u001b[0;34m(\u001b[0m\u001b[0max\u001b[0m\u001b[0;34m,\u001b[0m \u001b[0;34m*\u001b[0m\u001b[0margs\u001b[0m\u001b[0;34m,\u001b[0m \u001b[0;34m**\u001b[0m\u001b[0mkwargs\u001b[0m\u001b[0;34m)\u001b[0m\u001b[0;34m\u001b[0m\u001b[0;34m\u001b[0m\u001b[0m\n",
      "\u001b[0;32m/Library/Frameworks/Python.framework/Versions/3.9/lib/python3.9/site-packages/matplotlib/axes/_axes.py\u001b[0m in \u001b[0;36mimshow\u001b[0;34m(self, X, cmap, norm, aspect, interpolation, alpha, vmin, vmax, origin, extent, filternorm, filterrad, resample, url, **kwargs)\u001b[0m\n\u001b[1;32m   5607\u001b[0m                               resample=resample, **kwargs)\n\u001b[1;32m   5608\u001b[0m \u001b[0;34m\u001b[0m\u001b[0m\n\u001b[0;32m-> 5609\u001b[0;31m         \u001b[0mim\u001b[0m\u001b[0;34m.\u001b[0m\u001b[0mset_data\u001b[0m\u001b[0;34m(\u001b[0m\u001b[0mX\u001b[0m\u001b[0;34m)\u001b[0m\u001b[0;34m\u001b[0m\u001b[0;34m\u001b[0m\u001b[0m\n\u001b[0m\u001b[1;32m   5610\u001b[0m         \u001b[0mim\u001b[0m\u001b[0;34m.\u001b[0m\u001b[0mset_alpha\u001b[0m\u001b[0;34m(\u001b[0m\u001b[0malpha\u001b[0m\u001b[0;34m)\u001b[0m\u001b[0;34m\u001b[0m\u001b[0;34m\u001b[0m\u001b[0m\n\u001b[1;32m   5611\u001b[0m         \u001b[0;32mif\u001b[0m \u001b[0mim\u001b[0m\u001b[0;34m.\u001b[0m\u001b[0mget_clip_path\u001b[0m\u001b[0;34m(\u001b[0m\u001b[0;34m)\u001b[0m \u001b[0;32mis\u001b[0m \u001b[0;32mNone\u001b[0m\u001b[0;34m:\u001b[0m\u001b[0;34m\u001b[0m\u001b[0;34m\u001b[0m\u001b[0m\n",
      "\u001b[0;32m/Library/Frameworks/Python.framework/Versions/3.9/lib/python3.9/site-packages/matplotlib/image.py\u001b[0m in \u001b[0;36mset_data\u001b[0;34m(self, A)\u001b[0m\n\u001b[1;32m    707\u001b[0m         if not (self._A.ndim == 2\n\u001b[1;32m    708\u001b[0m                 or self._A.ndim == 3 and self._A.shape[-1] in [3, 4]):\n\u001b[0;32m--> 709\u001b[0;31m             raise TypeError(\"Invalid shape {} for image data\"\n\u001b[0m\u001b[1;32m    710\u001b[0m                             .format(self._A.shape))\n\u001b[1;32m    711\u001b[0m \u001b[0;34m\u001b[0m\u001b[0m\n",
      "\u001b[0;31mTypeError\u001b[0m: Invalid shape () for image data"
     ]
    },
    {
     "data": {
      "image/png": "[encoded data removed]",
      "text/plain": [
       "<Figure size 720x720 with 1 Axes>"
      ]
     },
     "metadata": {
      "needs_background": "light"
     },
     "output_type": "display_data"
    }
   ],
   "source": [
    "plt.imshow(test_im == alphabet_im[:alphabet_im.shape[0]//3, :alphabet_im.shape[1]//20])"
   ]
  },
  {
   "cell_type": "code",
   "execution_count": 73,
   "metadata": {},
   "outputs": [
    {
     "data": {
      "text/plain": [
       "<matplotlib.image.AxesImage at 0x7f9690de31c0>"
      ]
     },
     "execution_count": 73,
     "metadata": {},
     "output_type": "execute_result"
    },
    {
     "data": {
      "image/png": "[encoded data removed]",
      "text/plain": [
       "<Figure size 720x720 with 1 Axes>"
      ]
     },
     "metadata": {
      "needs_background": "light"
     },
     "output_type": "display_data"
    }
   ],
   "source": [
    "plt.imshow(alphabet_im[:alphabet_im.shape[0]//3, :alphabet_im.shape[1]//20])"
   ]
  },
  {
   "cell_type": "code",
   "execution_count": 76,
   "metadata": {},
   "outputs": [
    {
     "data": {
      "text/plain": [
       "(320, 590)"
      ]
     },
     "execution_count": 76,
     "metadata": {},
     "output_type": "execute_result"
    }
   ],
   "source": [
    "test_im.shape"
   ]
  },
  {
   "cell_type": "code",
   "execution_count": 77,
   "metadata": {},
   "outputs": [
    {
     "data": {
      "text/plain": [
       "(954, 11763)"
      ]
     },
     "execution_count": 77,
     "metadata": {},
     "output_type": "execute_result"
    }
   ],
   "source": [
    "alphabet_im.shape"
   ]
  },
  {
   "cell_type": "code",
   "execution_count": 68,
   "metadata": {},
   "outputs": [
    {
     "name": "stdout",
     "output_type": "stream",
     "text": [
      "[[0.]] [[7.8283853e+08 7.8662554e+08 7.8877536e+08 7.9708166e+08]]\n"
     ]
    }
   ],
   "source": [
    "_, digits, _, scores = knn.findNearest(digit_feature_vectors(test_im).astype(dtype=np.float32)[None, :], k=4)\n",
    "print(digits, scores)"
   ]
  },
  {
   "cell_type": "code",
   "execution_count": 59,
   "metadata": {},
   "outputs": [
    {
     "data": {
      "text/plain": [
       "(1, 188800)"
      ]
     },
     "execution_count": 59,
     "metadata": {},
     "output_type": "execute_result"
    }
   ],
   "source": [
    "digit_feature_vectors(test_im).astype(dtype=np.float32)[None, :].shape"
   ]
  },
  {
   "cell_type": "code",
   "execution_count": 57,
   "metadata": {},
   "outputs": [
    {
     "data": {
      "text/plain": [
       "(60, 188800)"
      ]
     },
     "execution_count": 57,
     "metadata": {},
     "output_type": "execute_result"
    }
   ],
   "source": [
    "fv.shape"
   ]
  },
  {
   "cell_type": "code",
   "execution_count": 49,
   "metadata": {},
   "outputs": [
    {
     "data": {
      "text/plain": [
       "(60, 1)"
      ]
     },
     "execution_count": 49,
     "metadata": {},
     "output_type": "execute_result"
    }
   ],
   "source": [
    "lbls.shape"
   ]
  },
  {
   "cell_type": "code",
   "execution_count": 50,
   "metadata": {},
   "outputs": [
    {
     "data": {
      "text/plain": [
       "4.0"
      ]
     },
     "execution_count": 50,
     "metadata": {},
     "output_type": "execute_result"
    }
   ],
   "source": [
    "755200/188800"
   ]
  },
  {
   "cell_type": "code",
   "execution_count": 51,
   "metadata": {},
   "outputs": [
    {
     "data": {
      "text/plain": [
       "(954, 11763, 4)"
      ]
     },
     "execution_count": 51,
     "metadata": {},
     "output_type": "execute_result"
    }
   ],
   "source": [
    "alphabet_im.shape"
   ]
  },
  {
   "cell_type": "code",
   "execution_count": null,
   "metadata": {},
   "outputs": [],
   "source": []
  }
 ],
 "metadata": {
  "interpreter": {
   "hash": "31f2aee4e71d21fbe5cf8b01ff0e069b9275f58929596ceb00d14d90e3e16cd6"
  },
  "kernelspec": {
   "display_name": "Python 3.8.5 64-bit",
   "language": "python",
   "name": "python3"
  },
  "language_info": {
   "codemirror_mode": {
    "name": "ipython",
    "version": 3
   },
   "file_extension": ".py",
   "mimetype": "text/x-python",
   "name": "python",
   "nbconvert_exporter": "python",
   "pygments_lexer": "ipython3",
   "version": "3.9.6"
  },
  "orig_nbformat": 4
 },
 "nbformat": 4,
 "nbformat_minor": 2
}
